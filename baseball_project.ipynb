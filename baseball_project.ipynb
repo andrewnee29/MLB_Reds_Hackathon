{
 "cells": [
  {
   "cell_type": "code",
   "execution_count": 185,
   "id": "673a026d",
   "metadata": {},
   "outputs": [],
   "source": [
    "'''\n",
    "Baseball Pitcher Classification\n",
    "Andrew Nee\n",
    "'''\n",
    "import numpy as np\n",
    "import pandas as pd\n",
    "\n",
    "df_init = pd.read_csv('fangraphs_season_level.csv')\n",
    "\n",
    "df = df_init[['NameASCII', 'PlayerId', 'Throws', 'Season', 'Role', 'G', 'IP', 'TBF', 'K_pct', 'BB_pct', 'FIP', 'xFIP', 'SIERA', 'WAR', \n",
    "              'WPA', 'WPA_to_LI', 'SwStr_pct', 'Soft_pct', 'Med_pct', 'Hard_pct', 'GB_pct', 'LD_pct', 'FB_pct', 'SD', 'MD',\n",
    "             'Stuff_plus', 'Location_plus', 'Pitching_plus']]\n",
    "\n",
    "# Relief pitcher = 0, Starting Pitcher = 1\n",
    "df.loc[(df['Role'] == 'RP', 'Role')] = 0\n",
    "df.loc[(df['Role'] == 'SP', 'Role')] = 1\n",
    "\n",
    "\n"
   ]
  },
  {
   "cell_type": "code",
   "execution_count": 186,
   "id": "bf87d0cd",
   "metadata": {},
   "outputs": [
    {
     "data": {
      "text/html": [
       "<div>\n",
       "<style scoped>\n",
       "    .dataframe tbody tr th:only-of-type {\n",
       "        vertical-align: middle;\n",
       "    }\n",
       "\n",
       "    .dataframe tbody tr th {\n",
       "        vertical-align: top;\n",
       "    }\n",
       "\n",
       "    .dataframe thead th {\n",
       "        text-align: right;\n",
       "    }\n",
       "</style>\n",
       "<table border=\"1\" class=\"dataframe\">\n",
       "  <thead>\n",
       "    <tr style=\"text-align: right;\">\n",
       "      <th></th>\n",
       "      <th>PlayerId</th>\n",
       "      <th>Role</th>\n",
       "      <th>K_pct</th>\n",
       "      <th>BB_pct</th>\n",
       "      <th>FIP</th>\n",
       "      <th>xFIP</th>\n",
       "      <th>SIERA</th>\n",
       "      <th>WAR</th>\n",
       "      <th>WPA</th>\n",
       "      <th>WPA_to_LI</th>\n",
       "      <th>...</th>\n",
       "      <th>Med_pct</th>\n",
       "      <th>Hard_pct</th>\n",
       "      <th>GB_pct</th>\n",
       "      <th>LD_pct</th>\n",
       "      <th>FB_pct</th>\n",
       "      <th>SD</th>\n",
       "      <th>MD</th>\n",
       "      <th>Stuff_plus</th>\n",
       "      <th>Location_plus</th>\n",
       "      <th>Pitching_plus</th>\n",
       "    </tr>\n",
       "  </thead>\n",
       "  <tbody>\n",
       "    <tr>\n",
       "      <th>0</th>\n",
       "      <td>27498</td>\n",
       "      <td>1</td>\n",
       "      <td>0.330762</td>\n",
       "      <td>0.090963</td>\n",
       "      <td>3.160212</td>\n",
       "      <td>3.353195</td>\n",
       "      <td>3.362736</td>\n",
       "      <td>3.279872</td>\n",
       "      <td>1.26284</td>\n",
       "      <td>1.781971</td>\n",
       "      <td>...</td>\n",
       "      <td>0.50065</td>\n",
       "      <td>0.3384</td>\n",
       "      <td>0.343733</td>\n",
       "      <td>0.213746</td>\n",
       "      <td>0.442521</td>\n",
       "      <td>1.875</td>\n",
       "      <td>0.25</td>\n",
       "      <td>132.359723</td>\n",
       "      <td>101.764679</td>\n",
       "      <td>109.603258</td>\n",
       "    </tr>\n",
       "  </tbody>\n",
       "</table>\n",
       "<p>1 rows × 22 columns</p>\n",
       "</div>"
      ],
      "text/plain": [
       "   PlayerId  Role     K_pct    BB_pct       FIP      xFIP     SIERA       WAR  \\\n",
       "0     27498     1  0.330762  0.090963  3.160212  3.353195  3.362736  3.279872   \n",
       "\n",
       "       WPA  WPA_to_LI  ...  Med_pct  Hard_pct    GB_pct    LD_pct    FB_pct  \\\n",
       "0  1.26284   1.781971  ...  0.50065    0.3384  0.343733  0.213746  0.442521   \n",
       "\n",
       "      SD    MD  Stuff_plus  Location_plus  Pitching_plus  \n",
       "0  1.875  0.25  132.359723     101.764679     109.603258  \n",
       "\n",
       "[1 rows x 22 columns]"
      ]
     },
     "metadata": {},
     "output_type": "display_data"
    }
   ],
   "source": [
    "# weighted average of 2021, 2022, 2023 seasons    \n",
    "# lets make the weight [1,2,3]\n",
    "df_nums = df.drop(['NameASCII', 'Throws'], axis = 1)\n",
    "\n",
    "df_nums.loc[(df['Season'] == 2021, 'Season')] = 1\n",
    "df_nums.loc[(df['Season'] == 2022, 'Season')] = 2\n",
    "df_nums.loc[(df['Season'] == 2023, 'Season')] = 3\n",
    "\n",
    "# i'm dropping rows with NaN values as these pitchers had extremely minimal outings \n",
    "df_nums.dropna(subset=[\"Stuff_plus\", \"SIERA\", 'Soft_pct'], inplace=True)\n",
    "\n",
    "def avg_seasons(PlayerId):\n",
    "    '''\n",
    "    Takes the weighted average of a player's stats. Doesn't average stats related to amount played.\n",
    "    \n",
    "    \n",
    "    '''\n",
    "    w_avg_lst = []\n",
    "    \n",
    "    # dataframe of just one player\n",
    "    player_df = df_nums[df_nums['PlayerId'] == PlayerId].copy()\n",
    "    lst = player_df['Season'].tolist()\n",
    "   \n",
    "    # get stat column names\n",
    "    stats_df = player_df.iloc[: , 6:]\n",
    "    col_names = list(stats_df.columns.values)\n",
    "    \n",
    "    # iterate over columns to get weighted average and make new dataframe\n",
    "    for column, vals in stats_df.items():\n",
    "        \n",
    "        vals_lst = vals.tolist()\n",
    "        weighted_avg = np.average(vals_lst, weights = lst)\n",
    "        \n",
    "        w_avg_lst.append(weighted_avg)\n",
    "     \n",
    "    df = pd.DataFrame([w_avg_lst], columns = col_names)\n",
    "    df.insert(0, \"PlayerId\", PlayerId, True)\n",
    "    \n",
    "    role = player_df.loc[(player_df['PlayerId'] == PlayerId) & (player_df['Season'] == lst[-1]), 'Role'].iloc[0]\n",
    "    df.insert(1, \"Role\", role, True)\n",
    "\n",
    "\n",
    "    return df\n",
    "display(avg_seasons(27498))"
   ]
  },
  {
   "cell_type": "code",
   "execution_count": 187,
   "id": "c30bb647",
   "metadata": {},
   "outputs": [],
   "source": [
    "# now lets get a list of all the playerIDs so we can make a master dataframe of all weighted data\n",
    "\n",
    "p_id = df_nums['PlayerId'].unique()\n",
    "\n",
    "lst_of_df = list()\n",
    "\n",
    "for player in p_id:\n",
    "    \n",
    "    lst_of_df.append(avg_seasons(player))\n",
    "    \n",
    "master_df = pd.concat(lst_of_df, ignore_index=True)\n"
   ]
  },
  {
   "cell_type": "code",
   "execution_count": 188,
   "id": "5683340b",
   "metadata": {},
   "outputs": [],
   "source": [
    "# cross validation to find optimal k\n",
    "\n",
    "def get_X_y(df):\n",
    "    \"\"\"\n",
    "    Parameters: dataframe\n",
    "    Returns: dataframe, array\n",
    "    Does: returns demographic info as X and an array corresponding parties as y\n",
    "    \"\"\"\n",
    "    y = df[\"Role\"].values\n",
    "    y=y.astype('int')\n",
    "    \n",
    "    X = df.drop(['Role', 'PlayerId'], axis = 1)\n",
    "    \n",
    "    return X,y\n",
    "\n",
    "X,y = get_X_y(master_df)"
   ]
  },
  {
   "cell_type": "code",
   "execution_count": 189,
   "id": "4758aa21",
   "metadata": {},
   "outputs": [
    {
     "data": {
      "image/png": "[encoded data removed]",
      "text/plain": [
       "<Figure size 640x480 with 1 Axes>"
      ]
     },
     "metadata": {},
     "output_type": "display_data"
    }
   ],
   "source": [
    "from sklearn.model_selection import KFold, cross_validate\n",
    "from sklearn.linear_model import LogisticRegression\n",
    "import matplotlib.pyplot as plt \n",
    "from sklearn.neighbors import KNeighborsClassifier\n",
    "%matplotlib inline\n",
    "\n",
    "# choose k between 5 to 11\n",
    "k_range = list(range(5, 11))\n",
    "k_scores = []\n",
    "\n",
    "# use iteration to caclulator different k in models, then return the average based on the cross validation\n",
    "for k in k_range:\n",
    "    knn = KNeighborsClassifier(n_neighbors=k)\n",
    "    k_folds = KFold(n_splits = 5, random_state = 0, shuffle = True)\n",
    "    scores = cross_validate(knn, X, y, cv=k_folds, scoring='accuracy')\n",
    "    k_scores.append(scores['test_score'].mean())\n",
    "    \n",
    "# plot\n",
    "plt.plot(k_range, k_scores, color = 'green')\n",
    "plt.xlabel('Value of K for KNN')\n",
    "plt.ylabel('Cross-Validated Accuracy')\n",
    "\n",
    "#plt.savefig('k_value.png', bbox_inches = 'tight')\n",
    "plt.show()\n"
   ]
  },
  {
   "cell_type": "code",
   "execution_count": 190,
   "id": "92a2c178",
   "metadata": {},
   "outputs": [
    {
     "name": "stdout",
     "output_type": "stream",
     "text": [
      "Accuracy Max K value 8\n",
      "Accuracy Max K score 0.8938314047738836\n",
      "Accuracy Min K value 10\n",
      "Accuracy Min K score 0.8856000894404381\n"
     ]
    }
   ],
   "source": [
    "print('Accuracy Max K value', k_scores.index(max(k_scores)) + 5)\n",
    "print('Accuracy Max K score',max(k_scores))\n",
    "print('Accuracy Min K value',k_scores.index(min(k_scores)) + 5)\n",
    "print('Accuracy Min K score', min(k_scores))"
   ]
  },
  {
   "cell_type": "code",
   "execution_count": null,
   "id": "177d467f",
   "metadata": {},
   "outputs": [],
   "source": []
  },
  {
   "cell_type": "code",
   "execution_count": 191,
   "id": "4e87c0a1",
   "metadata": {},
   "outputs": [
    {
     "data": {
      "text/html": [
       "<style>#sk-container-id-4 {color: black;background-color: white;}#sk-container-id-4 pre{padding: 0;}#sk-container-id-4 div.sk-toggleable {background-color: white;}#sk-container-id-4 label.sk-toggleable__label {cursor: pointer;display: block;width: 100%;margin-bottom: 0;padding: 0.3em;box-sizing: border-box;text-align: center;}#sk-container-id-4 label.sk-toggleable__label-arrow:before {content: \"▸\";float: left;margin-right: 0.25em;color: #696969;}#sk-container-id-4 label.sk-toggleable__label-arrow:hover:before {color: black;}#sk-container-id-4 div.sk-estimator:hover label.sk-toggleable__label-arrow:before {color: black;}#sk-container-id-4 div.sk-toggleable__content {max-height: 0;max-width: 0;overflow: hidden;text-align: left;background-color: #f0f8ff;}#sk-container-id-4 div.sk-toggleable__content pre {margin: 0.2em;color: black;border-radius: 0.25em;background-color: #f0f8ff;}#sk-container-id-4 input.sk-toggleable__control:checked~div.sk-toggleable__content {max-height: 200px;max-width: 100%;overflow: auto;}#sk-container-id-4 input.sk-toggleable__control:checked~label.sk-toggleable__label-arrow:before {content: \"▾\";}#sk-container-id-4 div.sk-estimator input.sk-toggleable__control:checked~label.sk-toggleable__label {background-color: #d4ebff;}#sk-container-id-4 div.sk-label input.sk-toggleable__control:checked~label.sk-toggleable__label {background-color: #d4ebff;}#sk-container-id-4 input.sk-hidden--visually {border: 0;clip: rect(1px 1px 1px 1px);clip: rect(1px, 1px, 1px, 1px);height: 1px;margin: -1px;overflow: hidden;padding: 0;position: absolute;width: 1px;}#sk-container-id-4 div.sk-estimator {font-family: monospace;background-color: #f0f8ff;border: 1px dotted black;border-radius: 0.25em;box-sizing: border-box;margin-bottom: 0.5em;}#sk-container-id-4 div.sk-estimator:hover {background-color: #d4ebff;}#sk-container-id-4 div.sk-parallel-item::after {content: \"\";width: 100%;border-bottom: 1px solid gray;flex-grow: 1;}#sk-container-id-4 div.sk-label:hover label.sk-toggleable__label {background-color: #d4ebff;}#sk-container-id-4 div.sk-serial::before {content: \"\";position: absolute;border-left: 1px solid gray;box-sizing: border-box;top: 0;bottom: 0;left: 50%;z-index: 0;}#sk-container-id-4 div.sk-serial {display: flex;flex-direction: column;align-items: center;background-color: white;padding-right: 0.2em;padding-left: 0.2em;position: relative;}#sk-container-id-4 div.sk-item {position: relative;z-index: 1;}#sk-container-id-4 div.sk-parallel {display: flex;align-items: stretch;justify-content: center;background-color: white;position: relative;}#sk-container-id-4 div.sk-item::before, #sk-container-id-4 div.sk-parallel-item::before {content: \"\";position: absolute;border-left: 1px solid gray;box-sizing: border-box;top: 0;bottom: 0;left: 50%;z-index: -1;}#sk-container-id-4 div.sk-parallel-item {display: flex;flex-direction: column;z-index: 1;position: relative;background-color: white;}#sk-container-id-4 div.sk-parallel-item:first-child::after {align-self: flex-end;width: 50%;}#sk-container-id-4 div.sk-parallel-item:last-child::after {align-self: flex-start;width: 50%;}#sk-container-id-4 div.sk-parallel-item:only-child::after {width: 0;}#sk-container-id-4 div.sk-dashed-wrapped {border: 1px dashed gray;margin: 0 0.4em 0.5em 0.4em;box-sizing: border-box;padding-bottom: 0.4em;background-color: white;}#sk-container-id-4 div.sk-label label {font-family: monospace;font-weight: bold;display: inline-block;line-height: 1.2em;}#sk-container-id-4 div.sk-label-container {text-align: center;}#sk-container-id-4 div.sk-container {/* jupyter's `normalize.less` sets `[hidden] { display: none; }` but bootstrap.min.css set `[hidden] { display: none !important; }` so we also need the `!important` here to be able to override the default hidden behavior on the sphinx rendered scikit-learn.org. See: https://github.com/scikit-learn/scikit-learn/issues/21755 */display: inline-block !important;position: relative;}#sk-container-id-4 div.sk-text-repr-fallback {display: none;}</style><div id=\"sk-container-id-4\" class=\"sk-top-container\"><div class=\"sk-text-repr-fallback\"><pre>KNeighborsClassifier(n_neighbors=8)</pre><b>In a Jupyter environment, please rerun this cell to show the HTML representation or trust the notebook. <br />On GitHub, the HTML representation is unable to render, please try loading this page with nbviewer.org.</b></div><div class=\"sk-container\" hidden><div class=\"sk-item\"><div class=\"sk-estimator sk-toggleable\"><input class=\"sk-toggleable__control sk-hidden--visually\" id=\"sk-estimator-id-4\" type=\"checkbox\" checked><label for=\"sk-estimator-id-4\" class=\"sk-toggleable__label sk-toggleable__label-arrow\">KNeighborsClassifier</label><div class=\"sk-toggleable__content\"><pre>KNeighborsClassifier(n_neighbors=8)</pre></div></div></div></div></div>"
      ],
      "text/plain": [
       "KNeighborsClassifier(n_neighbors=8)"
      ]
     },
     "execution_count": 191,
     "metadata": {},
     "output_type": "execute_result"
    }
   ],
   "source": [
    "from sklearn.model_selection import train_test_split\n",
    "\n",
    "# optimal accuracy knn classifier\n",
    "X_train, X_test, y_train, y_test = train_test_split(X, y,random_state = 0)\n",
    "knn = KNeighborsClassifier(n_neighbors=8)\n",
    "knn.fit(X_train, y_train)"
   ]
  },
  {
   "cell_type": "code",
   "execution_count": 204,
   "id": "22fab83a",
   "metadata": {},
   "outputs": [
    {
     "ename": "ValueError",
     "evalue": "cannot insert Preds, already exists",
     "output_type": "error",
     "traceback": [
      "\u001b[1;31m---------------------------------------------------------------------------\u001b[0m",
      "\u001b[1;31mValueError\u001b[0m                                Traceback (most recent call last)",
      "\u001b[1;32m~\\AppData\\Local\\Temp\\ipykernel_37340\\2599546776.py\u001b[0m in \u001b[0;36m<module>\u001b[1;34m\u001b[0m\n\u001b[0;32m      1\u001b[0m \u001b[0my_hats\u001b[0m \u001b[1;33m=\u001b[0m \u001b[0mknn\u001b[0m\u001b[1;33m.\u001b[0m\u001b[0mpredict\u001b[0m\u001b[1;33m(\u001b[0m\u001b[0mX\u001b[0m\u001b[1;33m)\u001b[0m\u001b[1;33m\u001b[0m\u001b[1;33m\u001b[0m\u001b[0m\n\u001b[0;32m      2\u001b[0m \u001b[1;33m\u001b[0m\u001b[0m\n\u001b[1;32m----> 3\u001b[1;33m \u001b[0mmaster_df\u001b[0m\u001b[1;33m.\u001b[0m\u001b[0minsert\u001b[0m\u001b[1;33m(\u001b[0m\u001b[1;36m2\u001b[0m\u001b[1;33m,\u001b[0m\u001b[1;34m'Preds'\u001b[0m\u001b[1;33m,\u001b[0m \u001b[0my_hats\u001b[0m\u001b[1;33m)\u001b[0m\u001b[1;33m\u001b[0m\u001b[1;33m\u001b[0m\u001b[0m\n\u001b[0m\u001b[0;32m      4\u001b[0m \u001b[1;33m\u001b[0m\u001b[0m\n\u001b[0;32m      5\u001b[0m \u001b[0mdf_temp\u001b[0m \u001b[1;33m=\u001b[0m \u001b[0mdf\u001b[0m\u001b[1;33m.\u001b[0m\u001b[0mdrop\u001b[0m\u001b[1;33m(\u001b[0m\u001b[1;33m[\u001b[0m\u001b[1;34m'Throws'\u001b[0m\u001b[1;33m]\u001b[0m\u001b[1;33m,\u001b[0m \u001b[0maxis\u001b[0m \u001b[1;33m=\u001b[0m \u001b[1;36m1\u001b[0m\u001b[1;33m)\u001b[0m\u001b[1;33m\u001b[0m\u001b[1;33m\u001b[0m\u001b[0m\n",
      "\u001b[1;32m~\\anaconda3\\lib\\site-packages\\pandas\\core\\frame.py\u001b[0m in \u001b[0;36minsert\u001b[1;34m(self, loc, column, value, allow_duplicates)\u001b[0m\n\u001b[0;32m   4438\u001b[0m         \u001b[1;32mif\u001b[0m \u001b[1;32mnot\u001b[0m \u001b[0mallow_duplicates\u001b[0m \u001b[1;32mand\u001b[0m \u001b[0mcolumn\u001b[0m \u001b[1;32min\u001b[0m \u001b[0mself\u001b[0m\u001b[1;33m.\u001b[0m\u001b[0mcolumns\u001b[0m\u001b[1;33m:\u001b[0m\u001b[1;33m\u001b[0m\u001b[1;33m\u001b[0m\u001b[0m\n\u001b[0;32m   4439\u001b[0m             \u001b[1;31m# Should this be a different kind of error??\u001b[0m\u001b[1;33m\u001b[0m\u001b[1;33m\u001b[0m\u001b[0m\n\u001b[1;32m-> 4440\u001b[1;33m             \u001b[1;32mraise\u001b[0m \u001b[0mValueError\u001b[0m\u001b[1;33m(\u001b[0m\u001b[1;34mf\"cannot insert {column}, already exists\"\u001b[0m\u001b[1;33m)\u001b[0m\u001b[1;33m\u001b[0m\u001b[1;33m\u001b[0m\u001b[0m\n\u001b[0m\u001b[0;32m   4441\u001b[0m         \u001b[1;32mif\u001b[0m \u001b[1;32mnot\u001b[0m \u001b[0misinstance\u001b[0m\u001b[1;33m(\u001b[0m\u001b[0mloc\u001b[0m\u001b[1;33m,\u001b[0m \u001b[0mint\u001b[0m\u001b[1;33m)\u001b[0m\u001b[1;33m:\u001b[0m\u001b[1;33m\u001b[0m\u001b[1;33m\u001b[0m\u001b[0m\n\u001b[0;32m   4442\u001b[0m             \u001b[1;32mraise\u001b[0m \u001b[0mTypeError\u001b[0m\u001b[1;33m(\u001b[0m\u001b[1;34m\"loc must be int\"\u001b[0m\u001b[1;33m)\u001b[0m\u001b[1;33m\u001b[0m\u001b[1;33m\u001b[0m\u001b[0m\n",
      "\u001b[1;31mValueError\u001b[0m: cannot insert Preds, already exists"
     ]
    }
   ],
   "source": [
    "y_hats = knn.predict(X)\n",
    "\n",
    "master_df.insert(2,'Preds', y_hats)\n",
    "\n",
    "df_temp = df.drop(['Throws'], axis = 1)\n",
    "df_temp.dropna(subset=[\"Stuff_plus\", \"SIERA\", 'Soft_pct'], inplace=True)\n",
    "\n",
    "df1 = df_temp[['PlayerId', 'NameASCII']].copy()\n",
    "df2 = master_df.copy()\n",
    "\n",
    "df3 = pd.merge(df1, df2, on='PlayerId', how='left')\n",
    "\n",
    "display(df3)\n"
   ]
  },
  {
   "cell_type": "code",
   "execution_count": 205,
   "id": "e60049ef",
   "metadata": {},
   "outputs": [],
   "source": [
    "#master_df.to_csv('master.csv', index=False)\n",
    "df3.to_csv('masterv2.csv', index=False)\n",
    "#df_temp.to_csv('help.csv', index=False)"
   ]
  },
  {
   "cell_type": "code",
   "execution_count": null,
   "id": "bbcad924",
   "metadata": {},
   "outputs": [],
   "source": []
  }
 ],
 "metadata": {
  "kernelspec": {
   "display_name": "Python 3 (ipykernel)",
   "language": "python",
   "name": "python3"
  },
  "language_info": {
   "codemirror_mode": {
    "name": "ipython",
    "version": 3
   },
   "file_extension": ".py",
   "mimetype": "text/x-python",
   "name": "python",
   "nbconvert_exporter": "python",
   "pygments_lexer": "ipython3",
   "version": "3.9.18"
  }
 },
 "nbformat": 4,
 "nbformat_minor": 5
}
